{
 "cells": [
  {
   "cell_type": "code",
   "execution_count": null,
   "metadata": {},
   "outputs": [],
   "source": [
    "# Gather inputs\n",
    "name = input(\"What is your name? \")\n",
    "age = input (\"What is your age? \")\n",
    "\n",
    "# Convert age from years to days\n",
    "\n",
    "days = float(age) * 365\n",
    "\n",
    "# Convert age into seconds\n",
    "\n",
    "seconds = days * 86400\n",
    "\n",
    "# Print result\n",
    "\n",
    "print(\"Hi, \" + name + \"! You are about \" + str(days) + \" days old or \" + str(seconds) + \" seconds old!\")\n",
    "\n",
    "# End Of Program\n",
    "\n"
   ]
  },
  {
   "cell_type": "code",
   "execution_count": null,
   "metadata": {},
   "outputs": [],
   "source": []
  }
 ],
 "metadata": {
  "kernelspec": {
   "display_name": "Python 3",
   "language": "python",
   "name": "python3"
  },
  "language_info": {
   "codemirror_mode": {
    "name": "ipython",
    "version": 3
   },
   "file_extension": ".py",
   "mimetype": "text/x-python",
   "name": "python",
   "nbconvert_exporter": "python",
   "pygments_lexer": "ipython3",
   "version": "3.8.3"
  }
 },
 "nbformat": 4,
 "nbformat_minor": 4
}
