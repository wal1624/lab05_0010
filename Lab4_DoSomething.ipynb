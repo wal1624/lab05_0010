{
 "cells": [
  {
   "cell_type": "code",
   "execution_count": 6,
   "metadata": {},
   "outputs": [
    {
     "name": "stdin",
     "output_type": "stream",
     "text": [
      "What is your name?  Rohan\n",
      "What is your age?  18\n"
     ]
    },
    {
     "name": "stdout",
     "output_type": "stream",
     "text": [
      "Hi, Rohan! You are about 6570.0 days old or 567648000.0 seconds old!\n"
     ]
    }
   ],
   "source": [
    "# Gather inputs\n",
    "name = input(\"What is your name? \")\n",
    "age = input (\"What is your age? \")\n",
    "\n",
    "# Convert age from years to days\n",
    "\n",
    "days = float(age) * 365\n",
    "\n",
    "# Convert age into seconds\n",
    "\n",
    "seconds = days * 86400\n",
    "\n",
    "# Print result\n",
    "\n",
    "print(\"Hi, \" + name + \"! You are about \" + str(days) + \" days old or \" + str(seconds) + \" seconds old!\")\n",
    "\n",
    "# End Of Program\n",
    "\n"
   ]
  },
  {
   "cell_type": "code",
   "execution_count": null,
   "metadata": {},
   "outputs": [],
   "source": []
  }
 ],
 "metadata": {
  "kernelspec": {
   "display_name": "Python 3",
   "language": "python",
   "name": "python3"
  },
  "language_info": {
   "codemirror_mode": {
    "name": "ipython",
    "version": 3
   },
   "file_extension": ".py",
   "mimetype": "text/x-python",
   "name": "python",
   "nbconvert_exporter": "python",
   "pygments_lexer": "ipython3",
   "version": "3.8.3"
  }
 },
 "nbformat": 4,
 "nbformat_minor": 4
}
