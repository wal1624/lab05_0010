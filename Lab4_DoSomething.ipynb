{
 "cells": [
  {
   "cell_type": "code",
   "execution_count": null,
   "metadata": {},
   "outputs": [],
   "source": [
    "# Gather inputs\n",
    "name = input(\"What is your name? \")\n",
    "age = input (\"What is your age? \")\n",
    "\n",
    "# Convert age from years to days\n",
    "\n",
    "days = float(age) * 365\n",
    "\n",
    "# Print result\n",
    "\n",
    "print(\"Hi, \" + name + \"! You are about \" + str(days) + \" day old!\")\n",
    "\n",
    "# End Of Program\n",
    "\n"
   ]
  }
 ],
 "metadata": {
  "kernelspec": {
   "display_name": "Python 3",
   "language": "python",
   "name": "python3"
  },
  "language_info": {
   "codemirror_mode": {
    "name": "ipython",
    "version": 3
   },
   "file_extension": ".py",
   "mimetype": "text/x-python",
   "name": "python",
   "nbconvert_exporter": "python",
   "pygments_lexer": "ipython3",
   "version": "3.8.3"
  }
 },
 "nbformat": 4,
 "nbformat_minor": 4
}
